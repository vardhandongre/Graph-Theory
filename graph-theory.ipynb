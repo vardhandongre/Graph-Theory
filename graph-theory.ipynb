{
 "cells": [
  {
   "cell_type": "markdown",
   "metadata": {},
   "source": [
    "<div style=\"display:flex\">\n",
    "     <div style=\"flex:1;padding-right:5px;\">\n",
    "         <font color='green' style=\"font-family:garamond;\" size = 10><u>Graph Theory</u></font><br><br>\n",
    "         <u><b>Author: </b>Vardhan Dongre, Graduate Student, University of Illinois, Urbana-Champaign</u><br> This notebook is a result of my personal interest in graph theory and the algorithms involved in solving the complex graph problems.<br> This work is being developed along side some coursework in graph theory that I have been taking, it includes:\n",
    "         <ul>\n",
    "             <li> <a href=\"https://www.udemy.com/course/graph-theory-algorithms/\">Graph Theory Algorithms</a></li>\n",
    "             <li><a href='https://relate.cs.illinois.edu/course/cs598ook-sp20/'>Probabilistic Graphical Models (Reviewed)</a></li> \n",
    "         </ul>\n",
    "     </div>\n",
    "     <div style=\"flex:1;padding-left:5px;\">\n",
    "          <img src = 'banner2.png' height=800, width=600>\n",
    "         <center><font size=0.5>(source:Daniel A. Spielman,Yale Unviersity)</font></center>\n",
    "     </div>\n",
    "</div>\n",
    "\n",
    "This notebook mainly contains algorithm implementations and pseudo codes. The objective of this notebook is \n",
    "<ol>\n",
    "    <li> To develop knowledge of graph theory algorithms from a computer science perspective</li>\n",
    "    <li> To be used as a go to reference for problem solving </li>\n",
    "    <li> To help me stay organized while studying this area </li>\n",
    "    <li> A tool for my personal and academic development </li>\n",
    "   </ol>\n",
    "<font size=1 color='red'>Some of the earlier cells in this notebook contain work that is part of online/university provided resources. I have re-implemented/re-wrote some of these works after understanding from original source.</font>"
   ]
  },
  {
   "cell_type": "code",
   "execution_count": 8,
   "metadata": {},
   "outputs": [],
   "source": [
    "# Graph\n",
    "\n",
    "# unweighted\n",
    "graph_1 = {\n",
    "    \"a\":[\"c\"],\n",
    "    \"b\":[\"c\",\"e\"],\n",
    "    \"c\":[\"a\",\"b\",\"d\",\"e\"],\n",
    "    \"d\":[\"c\"],\n",
    "    \"e\":[\"c\",\"b\"],\n",
    "    \"f\":[]\n",
    "}\n",
    "\n",
    "# weighted and directed\n",
    "graph_2 = {\n",
    "    \"a\":{\"b\":10,\"c\":3},\n",
    "    \"b\":{\"d\":2,\"c\":1},\n",
    "    \"c\":{\"b\":4,\"d\":8,\"e\":2},\n",
    "    \"d\":{\"e\":7},\n",
    "    \"e\":{\"d\":9}\n",
    "}\n",
    "\n",
    "# Examples\n",
    "# \n",
    "# Example: 1\n",
    "# g = { \"a\" : [\"d\", \"f\"],\n",
    "#       \"b\" : [\"c\"],\n",
    "#       \"c\" : [\"b\", \"c\", \"d\", \"e\"],\n",
    "#       \"d\" : [\"a\", \"c\"],\n",
    "#       \"e\" : [\"c\"],\n",
    "#       \"f\" : [\"d\"]\n",
    "#     }\n"
   ]
  },
  {
   "cell_type": "markdown",
   "metadata": {},
   "source": [
    "<div style=\"display:flex\">\n",
    "     <div style=\"flex:1;padding-right:5px;\">\n",
    "          <img src='unweight.png' height= 800 width= 450>\n",
    "         <center>Unweighted Graph</center>\n",
    "     </div>\n",
    "     <div style=\"flex:1;padding-left:5px;\">\n",
    "          <img src='weight.png' height= 800 width= 500>\n",
    "         <center>Weighted Graph</center>\n",
    "     </div>\n",
    "</div>"
   ]
  },
  {
   "cell_type": "code",
   "execution_count": 45,
   "metadata": {},
   "outputs": [
    {
     "name": "stdout",
     "output_type": "stream",
     "text": [
      "[('a', 'c'), ('b', 'c'), ('b', 'e'), ('c', 'a'), ('c', 'b'), ('c', 'd'), ('c', 'e'), ('d', 'c'), ('e', 'c'), ('e', 'b')]\n"
     ]
    }
   ],
   "source": [
    "# generate edges\n",
    "def generate_edges(graph):\n",
    "    edges = []\n",
    "    for node in graph:\n",
    "        for neighbour in graph[node]:\n",
    "            edges.append((node,neighbour))\n",
    "    return edges\n",
    "print(generate_edges(graph_1))"
   ]
  },
  {
   "cell_type": "code",
   "execution_count": 46,
   "metadata": {},
   "outputs": [],
   "source": [
    "# Identify isolated nodes\n",
    "def isolated_nodes(graph):\n",
    "    isolated = []\n",
    "    for node in graph:\n",
    "        if not graph[node]:\n",
    "            isolated.append(node)\n",
    "    return isolated"
   ]
  },
  {
   "cell_type": "code",
   "execution_count": 47,
   "metadata": {},
   "outputs": [
    {
     "data": {
      "text/plain": [
       "['f']"
      ]
     },
     "execution_count": 47,
     "metadata": {},
     "output_type": "execute_result"
    }
   ],
   "source": [
    "isolated_nodes(graph_1)"
   ]
  },
  {
   "cell_type": "code",
   "execution_count": 53,
   "metadata": {},
   "outputs": [
    {
     "name": "stdout",
     "output_type": "stream",
     "text": [
      "Vertices of the graph: \n",
      "['a', 'b', 'c', 'd', 'e', 'f']\n",
      "Edges of graph: \n",
      "[{'a', 'd'}, {'b', 'c'}, {'c'}, {'d', 'c'}, {'e', 'c'}]\n",
      "Add vertex: \n",
      "Vertices of graph: \n",
      "['a', 'b', 'c', 'd', 'e', 'f', 'z']\n",
      "Add an edge\n",
      "Vertices of graph: \n",
      "['a', 'b', 'c', 'd', 'e', 'f', 'z']\n",
      "Edges of graph: \n",
      "[{'a', 'd'}, {'a', 'z'}, {'b', 'c'}, {'c'}, {'d', 'c'}, {'e', 'c'}]\n"
     ]
    }
   ],
   "source": [
    "# Defining Graph Class\n",
    "\n",
    "class Graph(object):\n",
    "    def __init__(self, graph_dict=None):\n",
    "        if graph_dict == None:\n",
    "            graph_dict = {}\n",
    "        self.__graph_dict = graph_dict\n",
    "        \n",
    "    def vertices(self):\n",
    "        return list(self.__graph_dict.keys())\n",
    "    \n",
    "    def edges(self):\n",
    "        return self.__generate_edges()\n",
    "    \n",
    "    def add_vertex(self, vertex):\n",
    "        if vertex not in self.__graph_dict:\n",
    "            self.__graph_dict[vertex] = []\n",
    "            \n",
    "    def add_edge(self, edge):\n",
    "        edge = set(edge)\n",
    "        (vertex1, vertex2) = tuple(edge)\n",
    "        if vertex1 in self.__graph_dict:\n",
    "            self.__graph_dict[vertex1].append(vertex2)\n",
    "        else:\n",
    "            self.__graph_dict[vertex1] = [vertex2]\n",
    "            \n",
    "    def __generate_edges(self):\n",
    "        edges = []\n",
    "        for node in self.__graph_dict:\n",
    "            for neighbour in self.__graph_dict[node]:\n",
    "                if {neighbour, node} not in edges:\n",
    "                    edges.append({node,neighbour})\n",
    "        return edges\n",
    "    \n",
    "    def __str__(self):\n",
    "        res = \"vertices: \"\n",
    "        for k in self.__graph_dict:\n",
    "            res += str(k) + \" \"\n",
    "        res += \"\\nedges: \"\n",
    "        for edge in self.__generate_edges():\n",
    "            res += str(edge) + \" \"\n",
    "        return res\n",
    "    \n",
    "if __name__ == \"__main__\":\n",
    "    \n",
    "    g = {\n",
    "        \"a\":[\"d\"],\n",
    "        \"b\":[\"c\"],\n",
    "        \"c\":[\"b\",\"c\",\"d\",\"e\"],\n",
    "        \"d\":[\"a\",\"c\"],\n",
    "        \"e\":[\"c\"],\n",
    "        \"f\":[]\n",
    "    }\n",
    "    \n",
    "    graph = Graph(g)\n",
    "    \n",
    "    print(\"Vertices of the graph: \")\n",
    "    print(graph.vertices())\n",
    "    \n",
    "    print(\"Edges of graph: \")\n",
    "    print(graph.edges())\n",
    "    \n",
    "    print(\"Add vertex: \")\n",
    "    graph.add_vertex(\"z\")\n",
    "    \n",
    "    print(\"Vertices of graph: \")\n",
    "    print(graph.vertices())\n",
    "    \n",
    "    print(\"Add an edge\")\n",
    "    graph.add_edge({\"a\", \"z\"})\n",
    "    \n",
    "    print(\"Vertices of graph: \")\n",
    "    print(graph.vertices())\n",
    "    \n",
    "    print(\"Edges of graph: \")\n",
    "    print(graph.edges())\n",
    "    \n",
    "    "
   ]
  },
  {
   "cell_type": "markdown",
   "metadata": {},
   "source": [
    "__Degree of a graph:__ The degree is an important information associated with a graph. The maximum degree of a graph G is denoted as $\\Delta(G)$ and the minimum degree of the graph is denoted as $\\delta(G)$. The __Handshaking Theorem__ gives us the degree sum formula for a graph: $\\sum_{v\\in V}deg(v) = 2|E|$ which implies that the total sum of the degrees of each vertex in a graph is equal to twice the number of edges."
   ]
  },
  {
   "cell_type": "code",
   "execution_count": 30,
   "metadata": {},
   "outputs": [
    {
     "name": "stdout",
     "output_type": "stream",
     "text": [
      "The degree of vertex c in the given graph is:  5 \n",
      "\n",
      "Delta(G) = 5 \n",
      "\n",
      "delta(G) = 1 \n",
      "\n",
      "The degree sequence is: [5, 2, 2, 1, 1, 1]\n"
     ]
    }
   ],
   "source": [
    "# Degree of a vertex\n",
    "# Degree is defined as number of edges connecting a vertex with loops counted twice\n",
    "\n",
    "def degree(graph,vertex):\n",
    "    neighbours = graph[vertex]\n",
    "    return len(neighbours)+neighbours.count(vertex)\n",
    "\n",
    "# Finding Big delta (maximum degree of a graph)\n",
    "\n",
    "def big_delta(graph):\n",
    "    max = 0\n",
    "    for node in graph:\n",
    "        deg = degree(graph,node)\n",
    "        if deg > max:\n",
    "            max = deg\n",
    "    return max\n",
    "\n",
    "def small_delta(graph):\n",
    "    min = float('inf')\n",
    "    for node in graph:\n",
    "        deg = degree(graph,node)\n",
    "        if deg < min:\n",
    "            min = deg\n",
    "    return min\n",
    "\n",
    "# Degree Sequence : The sequence of vertex degrees sorted in an non-increasing order\n",
    "\n",
    "def degree_sequence(graph):\n",
    "    seq = []\n",
    "    for node in graph:\n",
    "        deg = degree(graph,node)\n",
    "        seq.append(deg)\n",
    "    seq.sort(reverse=True)\n",
    "    return (seq)\n",
    "\n",
    "# Example\n",
    "example_graph = { \"a\" : [\"d\", \"f\"],\n",
    "      \"b\" : [\"c\"],\n",
    "      \"c\" : [\"b\", \"c\", \"d\", \"e\"],\n",
    "      \"d\" : [\"a\", \"c\"],\n",
    "      \"e\" : [\"c\"],\n",
    "      \"f\" : [\"d\"]\n",
    "    }\n",
    "vertex = 'c'\n",
    "print('The degree of vertex',vertex,'in the given graph is: ',degree(example_graph,vertex),'\\n')\n",
    "\n",
    "print('Delta(G) =', big_delta(example_graph),'\\n')\n",
    "\n",
    "print('delta(G) =',small_delta(example_graph),'\\n')\n",
    "\n",
    "print('The degree sequence is:', degree_sequence(example_graph))"
   ]
  },
  {
   "cell_type": "markdown",
   "metadata": {},
   "source": [
    "<h2>Icosian Game (Hamiltonian Game) </h2>\n",
    "\n",
    "In Graph Theory, a Hamiltonian path is a path in an undirecte or directe graph that visits each vertex exactly once. A graph that contains a Hamiltonian path is called a traceable graph. \n",
    "\n",
    "\n",
    "<table><tr><td><img src='hamildodeca.gif' style=\"width:100%\"></td><td><img src='knight.gif' style=\"width:60%\"></td></tr><tr><td>Hamiltonian cycle in Dodecahedron</td><td><center>Kinght's tour of Chessboard </center></td></table>\n",
    "\n",
    "<p>The Icosian game involves finding a Hamiltonian cycle in the edge graph of a dodecahedron. The earliest references for this problem can be traced back to 9th century in India, where Hamiltonian cycles in the knight's graph of chessboard were studied. The knight's tour is an instance of the Hamiltonian cycle. The  problem of finding a Hamiltonian Path in a given graph is called Hamiltonian Path Problem and is proven to be <b> NP-complete</b></p>"
   ]
  },
  {
   "cell_type": "code",
   "execution_count": null,
   "metadata": {},
   "outputs": [],
   "source": [
    "# Under Progress ......."
   ]
  },
  {
   "cell_type": "markdown",
   "metadata": {},
   "source": [
    "<h1> Shortest Path Problem </h1>\n",
    "\n",
    "In graph theory, the shortest path problem involves finding a path between two vertices of the graph such that the sum of the weights of the constituent edges is minimized. The most important algorithms for solving this problms include:\n",
    "\n",
    "<ul> \n",
    "    <li> Dijkstra's algorithms</li>\n",
    "    <li> Bellman-Ford algorithm</li>\n",
    "    <li> A* earch algorithm </li>\n",
    "    <li> Floyd-Warshall algorithms </li>\n",
    "    <li> Johnson's algorithms </li>\n",
    "    <li> Viterbi algorithm </li>\n",
    "</ul>\n",
    "\n",
    "Each one of these algorithms solves a unique case of the shortest path problem and with vaying complexity. These algorithms are also extremely significant in some other applications such as Machine Learning models that are based on probabilistic graphical models like Hidden Markov Models, Bayesian Networks etc.\n",
    "\n",
    "    "
   ]
  },
  {
   "cell_type": "code",
   "execution_count": 9,
   "metadata": {},
   "outputs": [
    {
     "data": {
      "text/plain": [
       "['a', 'd', 'c', 'b']"
      ]
     },
     "execution_count": 9,
     "metadata": {},
     "output_type": "execute_result"
    }
   ],
   "source": [
    "# Finding a path in a given unweighted graph\n",
    "\n",
    "def find_path(graph, start, end, path=None):\n",
    "    if path == None:\n",
    "        path = []\n",
    "    path = path + [start]\n",
    "    if start == end:\n",
    "        return path\n",
    "    if start not in graph:\n",
    "        return []\n",
    "    for node in graph[start]:\n",
    "        if node not in path:\n",
    "            extended_path = find_path(graph,node,end,path)\n",
    "            if extended_path:\n",
    "                return extended_path\n",
    "    return None\n",
    "\n",
    "# Example \n",
    "graph_a = { \"a\" : [\"d\"],\n",
    "      \"b\" : [\"c\"],\n",
    "      \"c\" : [\"b\", \"c\", \"d\", \"e\"],\n",
    "      \"d\" : [\"a\", \"c\"],\n",
    "      \"e\" : [\"c\"],\n",
    "      \"f\" : []\n",
    "    }\n",
    "\n",
    "find_path(graph_a, 'a','b')"
   ]
  },
  {
   "cell_type": "code",
   "execution_count": 17,
   "metadata": {},
   "outputs": [
    {
     "name": "stdout",
     "output_type": "stream",
     "text": [
      "The possible paths between a & b are: \n"
     ]
    },
    {
     "data": {
      "text/plain": [
       "[['a', 'd', 'c', 'b'], ['a', 'f', 'd', 'c', 'b']]"
      ]
     },
     "execution_count": 17,
     "metadata": {},
     "output_type": "execute_result"
    }
   ],
   "source": [
    "# Finding all the possible paths between two nodes\n",
    "\n",
    "def find_possible_paths(graph, start, end, path=None):\n",
    "    if path == None:\n",
    "        path = []\n",
    "    path = path + [start]\n",
    "    if start == end:\n",
    "        return [path]\n",
    "    if start not in graph:\n",
    "        return []\n",
    "    paths = []\n",
    "    for node in graph[start]:\n",
    "        if node not in path:\n",
    "            extended_paths = find_possible_paths(graph, node, end, path)\n",
    "            \n",
    "            for p in extended_paths:\n",
    "                paths.append(p)\n",
    "    return paths\n",
    "\n",
    "\n",
    "graph_b = { \"a\" : [\"d\", \"f\"],\n",
    "      \"b\" : [\"c\"],\n",
    "      \"c\" : [\"b\", \"c\", \"d\", \"e\"],\n",
    "      \"d\" : [\"a\", \"c\"],\n",
    "      \"e\" : [\"c\"],\n",
    "      \"f\" : [\"d\"]\n",
    "    }\n",
    "\n",
    "start = 'a'\n",
    "end = 'b'\n",
    "print(\"The possible paths between\",start,\"&\",end,'are: ')\n",
    "find_possible_paths(graph_b,start,end)"
   ]
  },
  {
   "cell_type": "markdown",
   "metadata": {},
   "source": [
    "<h1>Dijkstra's Algorithm</h1>\n",
    "<div style=\"display:flex\">\n",
    "     <div style=\"flex:1;padding-right:5px;\">\n",
    "          <img src='dijkstra_algo.png' height= 800 width= 500>\n",
    "     </div>\n",
    "     <div style=\"flex:1;padding-left:5px;\">\n",
    "          <img src='DijkstraDemo.gif' height= 400 width= 200>\n",
    "     </div>\n",
    "</div>\n",
    "<font size=1>(source: Wikipedia)</font>"
   ]
  },
  {
   "cell_type": "code",
   "execution_count": 28,
   "metadata": {},
   "outputs": [],
   "source": [
    "# Implementing Dijkstra's Algorithm\n",
    "\n",
    "# graph_3 = {\n",
    "#     \"a\":{\"b\":10,\"c\":3},\n",
    "#     \"b\":{\"d\":2,\"c\":1},\n",
    "#     \"c\":{\"b\":4,\"d\":8,\"e\":2},\n",
    "#     \"d\":{\"e\":7},\n",
    "#     \"e\":{\"d\":9}\n",
    "# }\n",
    "\n",
    "def dijkstra(graph, source, destination):\n",
    "    shortest_distance = {}\n",
    "    predecessor = {}\n",
    "    unseen = graph\n",
    "    infinity = float('inf')\n",
    "    path = []\n",
    "    \n",
    "    for vertex in unseen:\n",
    "        shortest_distance[vertex] = infinity\n",
    "    shortest_distance[source] = 0\n",
    "    \n",
    "    while unseen:\n",
    "        minNode = None\n",
    "        for node in unseen:\n",
    "            if minNode is None:\n",
    "                minNode = node\n",
    "            elif shortest_distance[node]<shortest_distance[minNode]:\n",
    "                minNode = node\n",
    "                \n",
    "        for child, weight in graph[minNode].items():\n",
    "            if weight+shortest_distance[minNode]<shortest_distance[child]:\n",
    "                shortest_distance[child] = weight+shortest_distance[minNode]\n",
    "                predecessor[child] = minNode\n",
    "                \n",
    "        unseen.pop(minNode)\n",
    "    \n",
    "    currentNode = destination\n",
    "    while currentNode != source:\n",
    "        try:\n",
    "            path.insert(0,currentNode)\n",
    "            currentNode = predecessor[currentNode]\n",
    "        except:\n",
    "            print('Path cannot be formed')\n",
    "            break\n",
    "    path.insert(0,source)\n",
    "    if shortest_distance[destination] != infinity:\n",
    "        print('The shortest distance from source:',source,'to destination:',\n",
    "              destination,'is:',shortest_distance[destination])\n",
    "        print('The shortest path is:', path)\n",
    "    \n",
    "# Shortest Path Solution for Graph\n",
    "\n",
    "#dijkstra(graph_3,'a','b')"
   ]
  },
  {
   "cell_type": "markdown",
   "metadata": {},
   "source": [
    "<h1>Example</h1>\n",
    "<img src='graph.png' height=1200 width=1000>"
   ]
  },
  {
   "cell_type": "code",
   "execution_count": 58,
   "metadata": {},
   "outputs": [
    {
     "name": "stdout",
     "output_type": "stream",
     "text": [
      "The shortest distance from source: 1 to destination: 7 is: 11\n",
      "The shortest path is: ['1', '3', '6', '7']\n"
     ]
    }
   ],
   "source": [
    "# Define the graph\n",
    "g1 = {\n",
    "    '1':{'2':6,'3':2,'4':16},\n",
    "    '2':{'4':5},\n",
    "    '3':{'2':7,'5':3,'6':8},\n",
    "    '4':{'7':3},\n",
    "    '5':{'4':4,'7':10},\n",
    "    '6':{'7':1},\n",
    "    '7':{}\n",
    "}\n",
    "\n",
    "# example_graph = Graph(g1)\n",
    "# print(example_graph.vertices())\n",
    "# print(example_graph.edges())\n",
    "\n",
    "# Shortest Path and Distances\n",
    "nodes = ['1','2','3','4','5','6','7']\n",
    "source = nodes[0]\n",
    "destination = nodes[6]\n",
    "dijkstra(g1,source,destination)"
   ]
  },
  {
   "cell_type": "code",
   "execution_count": null,
   "metadata": {},
   "outputs": [],
   "source": []
  },
  {
   "cell_type": "markdown",
   "metadata": {},
   "source": [
    "Graph Algorithms are often complicated but very intriguing. Their visualizations often result in very astonishing and remarkable patterns. While understanding several algorithms I have observed that visulazation of a graph algorithm has helped me understand them better. Some useful resources for this are:\n",
    "\n",
    "<ol>\n",
    "    <li><a href=\"https://visualgo.net/en\">Visual Algo</a></li>"
   ]
  },
  {
   "cell_type": "code",
   "execution_count": 31,
   "metadata": {},
   "outputs": [],
   "source": [
    "# Mardown Dependencies\n",
    "from IPython.display import HTML, display"
   ]
  }
 ],
 "metadata": {
  "kernelspec": {
   "display_name": "Python 3",
   "language": "python",
   "name": "python3"
  },
  "language_info": {
   "codemirror_mode": {
    "name": "ipython",
    "version": 3
   },
   "file_extension": ".py",
   "mimetype": "text/x-python",
   "name": "python",
   "nbconvert_exporter": "python",
   "pygments_lexer": "ipython3",
   "version": "3.7.3"
  }
 },
 "nbformat": 4,
 "nbformat_minor": 2
}
